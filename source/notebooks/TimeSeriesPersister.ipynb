{
 "cells": [
  {
   "cell_type": "markdown",
   "metadata": {
    "dotnet_interactive": {
     "language": "csharp"
    }
   },
   "source": [
    "# Time Series Persister\n",
    "Usage:\n",
    "- Copy `TimeSeriesPersister.env.sample` to `TimeSeriesPersister.env`\n",
    "- Edit `TimeSeriesPersister.env` to match your environment\n",
    "- Execute the cells"
   ]
  },
  {
   "cell_type": "markdown",
   "metadata": {},
   "source": [
    "**Read Configuration From `.env` File**"
   ]
  },
  {
   "cell_type": "code",
   "execution_count": null,
   "metadata": {
    "dotnet_interactive": {
     "language": "csharp"
    }
   },
   "outputs": [
    {
     "data": {
      "text/html": [
       "<div><div></div><div></div><div><strong>Installed Packages</strong><ul><li><span>dotenv.net, 3.0.0</span></li></ul></div></div>"
      ]
     },
     "metadata": {},
     "output_type": "display_data"
    }
   ],
   "source": [
    "#r \"nuget: dotenv.net, 3.0.0\"\n",
    "using System.Text.RegularExpressions;\n",
    "using dotenv.net;\n",
    "\n",
    "var envVars = DotEnv.Fluent().WithEnvFiles(\"./TimeSeriesPersister.env\").Read();\n",
    "\n",
    "// Event hub (Kafka source)\n",
    "var eventHubConnectionString = envVars[\"EVENTHUB_CONNECTIONSTRING\"];\n",
    "var eventHubsNamespace = Regex.Match(eventHubConnectionString, \"sb://([^.]+).\").Groups[1].Value;\n",
    "var eventHubsInstance = Regex.Match(eventHubConnectionString, \"EntityPath=(.+)$\").Groups[1].Value;\n",
    "\n",
    "// Delta Table (sink)\n",
    "var storageAccountKey = envVars[\"STORAGE_ACCOUNT_KEY\"];\n",
    "var storageAccountName = envVars[\"STORAGE_ACCOUNT_NAME\"];\n",
    "var delta_lake_container_name = envVars[\"DELTA_LAKE_CONTAINER_NAME\"];\n",
    "var blobName = envVars[\"BLOB_NAME\"];"
   ]
  },
  {
   "cell_type": "markdown",
   "metadata": {},
   "source": [
    "**Setup**"
   ]
  },
  {
   "cell_type": "code",
   "execution_count": null,
   "metadata": {
    "dotnet_interactive": {
     "language": "csharp"
    }
   },
   "outputs": [
    {
     "data": {
      "text/html": [
       "<div><div></div><div></div><div><strong>Installed Packages</strong><ul><li><span>Microsoft.Spark, 2.1.0</span></li><li><span>Microsoft.Spark.Extensions.Delta, 2.1.0</span></li></ul></div></div>"
      ]
     },
     "metadata": {},
     "output_type": "display_data"
    },
    {
     "data": {
      "text/markdown": [
       "Loading extensions from `Microsoft.Data.Analysis.Interactive.dll`"
      ]
     },
     "metadata": {},
     "output_type": "display_data"
    }
   ],
   "source": [
    "#r \"nuget:Microsoft.Spark\"\n",
    "#r \"nuget: Microsoft.Spark.Extensions.Delta, 2.1.0\"\n",
    "using System;\n",
    "using System.Collections.Generic;\n",
    "using Microsoft.Spark.Sql;\n",
    "using Microsoft.Spark.Sql.Streaming;\n",
    "using Microsoft.Spark.Sql.Types;\n",
    "using Microsoft.Spark.Extensions.Delta;\n",
    "using static Microsoft.Spark.Sql.Functions;\n",
    "\n",
    "// 9093 is the port used to communicate with Event Hubs, see [troubleshooting guide](https://docs.microsoft.com/azure/event-hubs/troubleshooting-guide)\n",
    "string bootstrapServers = $\"{eventHubsNamespace}.servicebus.windows.net:9093\";\n",
    "string eh_sasl = $\"org.apache.kafka.common.security.plain.PlainLoginModule required username=\\\"$ConnectionString\\\" password=\\\"{eventHubConnectionString}\\\";\";\n",
    "var path = $\"abfss://{delta_lake_container_name}@{storageAccountName}.dfs.core.windows.net/{blobName}\";\n",
    "\n",
    "var spark = SparkSession.Builder().Config($\"fs.azure.account.key.{storageAccountName}.dfs.core.windows.net\", storageAccountKey).GetOrCreate();"
   ]
  },
  {
   "cell_type": "code",
   "execution_count": null,
   "metadata": {
    "dotnet_interactive": {
     "language": "csharp"
    }
   },
   "outputs": [],
   "source": [
    "var streamingDf = spark\n",
    "    .ReadStream()\n",
    "    .Format(\"kafka\")\n",
    "    .Option(\"kafka.bootstrap.servers\", bootstrapServers)\n",
    "    .Option(\"subscribe\", eventHubsInstance)\n",
    "    .Option(\"kafka.sasl.mechanism\", \"PLAIN\")\n",
    "    .Option(\"kafka.security.protocol\", \"SASL_SSL\")\n",
    "    .Option(\"kafka.sasl.jaas.config\", eh_sasl)\n",
    "    .Option(\"kafka.request.timeout.ms\", \"60000\")\n",
    "    .Option(\"kafka.session.timeout.ms\", \"60000\")\n",
    "    //.Option(\"failOnDataLoss\", \"false\")\n",
    "    //.Option(\"checkpointLocation\", \"/tmp/kafka_cp.txt\")\n",
    "    .Load()\n",
    "    .WriteStream()\n",
    "    .Trigger(Trigger.ProcessingTime(2000))\n",
    "    .ForeachBatch((df, id) =>\n",
    "    {\n",
    "            df = df\n",
    "            .WithColumn(\"year\", Functions.Year(df[\"timestamp\"]))\n",
    "            .WithColumn(\"month\", Functions.Month(df[\"timestamp\"]))\n",
    "            .WithColumn(\"day\", Functions.DayOfMonth(df[\"timestamp\"]))\n",
    "            .WithColumn(\"time-series\", Functions.Col(\"value\").Cast(\"string\"))\n",
    "            .Select(\"year\", \"month\", \"day\", \"time-series\");\n",
    "\n",
    "            df.PrintSchema();\n",
    "            df.Show();\n",
    "\n",
    "            df\n",
    "            .Write()\n",
    "            .PartitionBy(\"year\", \"month\", \"day\")\n",
    "            .Format(\"delta\")\n",
    "            .Mode(SaveMode.Append)\n",
    "            .Save(path);\n",
    "    })\n",
    "    .Start();\n",
    "\n",
    "streamingDf.AwaitTermination();"
   ]
  },
  {
   "cell_type": "code",
   "execution_count": null,
   "metadata": {
    "dotnet_interactive": {
     "language": "csharp"
    }
   },
   "outputs": [
    {
     "name": "stdout",
     "output_type": "stream",
     "text": [
      "root\n",
      " |-- body: binary (nullable = true)\n",
      " |-- partition: string (nullable = true)\n",
      " |-- offset: string (nullable = true)\n",
      " |-- sequenceNumber: long (nullable = true)\n",
      " |-- enqueuedTime: timestamp (nullable = true)\n",
      " |-- publisher: string (nullable = true)\n",
      " |-- partitionKey: string (nullable = true)\n",
      " |-- properties: map (nullable = true)\n",
      " |    |-- key: string\n",
      " |    |-- value: string (valueContainsNull = true)\n",
      " |-- systemProperties: map (nullable = true)\n",
      " |    |-- key: string\n",
      " |    |-- value: string (valueContainsNull = true)\n",
      " |-- year: integer (nullable = true)\n",
      " |-- month: integer (nullable = true)\n",
      " |-- day: integer (nullable = true)\n",
      "\n",
      "+--------------------+---------+-----------+--------------+--------------------+---------+------------+--------------------+----------------+----+-----+---+\n",
      "|                body|partition|     offset|sequenceNumber|        enqueuedTime|publisher|partitionKey|          properties|systemProperties|year|month|day|\n",
      "+--------------------+---------+-----------+--------------+--------------------+---------+------------+--------------------+----------------+----+-----+---+\n",
      "|[7B 22 44 6F 63 7...|        2|12884901888|            24|2022-03-09 10:10:...|     null|        null|{Diagnostic-Id ->...|              {}|2022|    3|  9|\n",
      "|[7B 22 44 6F 63 7...|        3|12884906032|            36|2022-03-09 17:37:...|     null|        null|{Diagnostic-Id ->...|              {}|2022|    3|  9|\n",
      "|[7B 22 44 6F 63 7...|        3|12884907416|            37|2022-03-09 17:38:...|     null|        null|{Diagnostic-Id ->...|              {}|2022|    3|  9|\n",
      "|[7B 22 44 6F 63 7...|        3|12884904648|            35|2022-03-09 15:34:...|     null|        null|{Diagnostic-Id ->...|              {}|2022|    3|  9|\n",
      "|[7B 22 44 6F 63 7...|        3|12884901888|            33|2022-03-09 10:11:...|     null|        null|{Diagnostic-Id ->...|              {}|2022|    3|  9|\n",
      "|[7B 22 44 6F 63 7...|        0|12884901888|            27|2022-03-09 15:16:...|     null|        null|{Diagnostic-Id ->...|              {}|2022|    3|  9|\n",
      "|[7B 22 44 6F 63 7...|        1|12884903272|            28|2022-03-09 17:34:...|     null|        null|{Diagnostic-Id ->...|              {}|2022|    3|  9|\n",
      "|[7B 22 44 6F 63 7...|        2|12884907424|            28|2022-03-09 17:49:...|     null|        null|{Diagnostic-Id ->...|              {}|2022|    3|  9|\n",
      "|[7B 22 44 6F 63 7...|        1|12884904656|            29|2022-03-09 17:44:...|     null|        null|{Diagnostic-Id ->...|              {}|2022|    3|  9|\n",
      "|[7B 22 44 6F 63 7...|        2|12884903272|            25|2022-03-09 10:12:...|     null|        null|{Diagnostic-Id ->...|              {}|2022|    3|  9|\n",
      "|[7B 22 44 6F 63 7...|        2|12884904656|            26|2022-03-09 17:38:...|     null|        null|{Diagnostic-Id ->...|              {}|2022|    3|  9|\n",
      "|[7B 22 44 6F 63 7...|        0|12884903272|            28|2022-03-09 15:31:...|     null|        null|{Diagnostic-Id ->...|              {}|2022|    3|  9|\n",
      "|[7B 22 44 6F 63 7...|        1|12884906040|            30|2022-03-09 17:44:...|     null|        null|{Diagnostic-Id ->...|              {}|2022|    3|  9|\n",
      "|[7B 22 44 6F 63 7...|        2|12884906040|            27|2022-03-09 17:39:...|     null|        null|{Diagnostic-Id ->...|              {}|2022|    3|  9|\n",
      "|[7B 22 44 6F 63 7...|        0|12884904656|            29|2022-03-09 17:35:...|     null|        null|{Diagnostic-Id ->...|              {}|2022|    3|  9|\n",
      "|[7B 22 44 6F 63 7...|        1|12884901888|            27|2022-03-09 17:14:...|     null|        null|{Diagnostic-Id ->...|              {}|2022|    3|  9|\n",
      "|[7B 22 44 6F 63 7...|        3|12884903272|            34|2022-03-09 13:23:...|     null|        null|{Diagnostic-Id ->...|              {}|2022|    3|  9|\n",
      "|[7B 22 44 6F 63 7...|        2| 8589955336|            23|2022-03-08 14:33:...|     null|        null|{Diagnostic-Id ->...|              {}|2022|    3|  8|\n",
      "|[7B 22 44 6F 63 7...|        1| 8589956736|            26|2022-03-08 11:51:...|     null|        null|{Diagnostic-Id ->...|              {}|2022|    3|  8|\n",
      "+--------------------+---------+-----------+--------------+--------------------+---------+------------+--------------------+----------------+----+-----+---+\n",
      "\n"
     ]
    }
   ],
   "source": [
    "var spark = SparkSession.Builder().Config($\"fs.azure.account.key.{storageAccountName}.dfs.core.windows.net\", storageAccountKey).GetOrCreate();\n",
    "var path = $\"abfss://{delta_lake_container_name}@{storageAccountName}.dfs.core.windows.net/{blobName}\";\n",
    "var receivedTimeSeries = spark.Read().Format(\"delta\").Load(path);\n",
    "\n",
    "receivedTimeSeries.PrintSchema();\n",
    "receivedTimeSeries.Show(100);"
   ]
  }
 ],
 "metadata": {
  "kernelspec": {
   "display_name": ".NET (C#)",
   "language": "C#",
   "name": ".net-csharp"
  },
  "language_info": {
   "name": "C#"
  }
 },
 "nbformat": 4,
 "nbformat_minor": 2
}
