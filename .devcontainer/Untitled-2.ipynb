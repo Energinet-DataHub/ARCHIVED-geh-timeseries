{
 "cells": [
  {
   "cell_type": "code",
   "execution_count": null,
   "metadata": {
    "dotnet_interactive": {
     "language": "csharp"
    }
   },
   "outputs": [
    {
     "data": {
      "text/html": [
       "<div><div></div><div></div><div><strong>Installed Packages</strong><ul><li><span>Microsoft.Spark, 2.1.0</span></li></ul></div></div>"
      ]
     },
     "metadata": {},
     "output_type": "display_data"
    },
    {
     "ename": "Error",
     "evalue": "(53,25): error CS1503: Argument 2: cannot convert from 'bool' to 'int'",
     "output_type": "error",
     "traceback": [
      "(53,25): error CS1503: Argument 2: cannot convert from 'bool' to 'int'"
     ]
    }
   ],
   "source": [
    "#r \"nuget:Microsoft.Spark\"\n",
    "using System;\n",
    "using System.Collections.Generic;\n",
    "using Microsoft.Spark.Sql;\n",
    "using Microsoft.Spark.Sql.Types;\n",
    "using static Microsoft.Spark.Sql.Functions;\n",
    "\n",
    "\n",
    "Environment.SetEnvironmentVariable(\"EVENT_HUB_CONNECTION_STRING\", \"Endpoint=sb://evhns-timeseries-timeseries-u-001.servicebus.windows.net/;SharedAccessKeyName=listen;SharedAccessKey=lGW5ENgWGFeRhNNBhPkq4uAYrebkWhSTa0ZbvafB9cw=;EntityPath=received-timeseries\");\n",
    "/////////////////////////////////////////////////////\n",
    "\n",
    "var spark = SparkSession.Builder().GetOrCreate();\n",
    "var timeseries_unprocessed_path = \"TODO\";\n",
    "\n",
    "var eventHubConnectionString = Environment.GetEnvironmentVariable(\"EVENT_HUB_CONNECTION_STRING\");\n",
    "\n",
    "// TODO BJARKE: Extract hostname from connection string: Endpoint=sb://evhns-integrationstest-u-002.servicebus.windows.net/;SharedAccessKeyName=RootManageSharedAccessKey;SharedAccessKey=*******\n",
    "string bootstrapServers = \"evhns-timeseries-timeseries-u-001.servicebus.windows.net:9093\"; // 9093 is the port used to communicate with Event Hubs, see [troubleshooting guide](https://docs.microsoft.com/azure/event-hubs/troubleshooting-guide)\n",
    "string eh_sasl = $\"org.apache.kafka.common.security.plain.PlainLoginModule required username=\\\"$ConnectionString\\\" password=\\\"{eventHubConnectionString}\\\";\";\n",
    "Console.WriteLine(eh_sasl);\n",
    "\n",
    "var streamingDf = spark\n",
    "    .ReadStream()\n",
    "    .Format(\"kafka\")\n",
    "    .Option(\"kafka.bootstrap.servers\", bootstrapServers)\n",
    "    .Option(\"subscribe\", \"received-timeseries\")\n",
    "    .Option(\"kafka.sasl.mechanism\", \"PLAIN\")\n",
    "    .Option(\"kafka.security.protocol\", \"SASL_SSL\")\n",
    "    .Option(\"kafka.sasl.jaas.config\", eh_sasl)\n",
    "    .Option(\"kafka.request.timeout.ms\", \"60000\")\n",
    "    .Option(\"kafka.session.timeout.ms\", \"60000\")\n",
    "    .Option(\"failOnDataLoss\", \"false\")\n",
    "    .Option(\"checkpointLocation\", \"/tmp/kafka_cp.txt\")\n",
    "    .Load()\n",
    "    .SelectExpr(\"CAST(value AS STRING)\");\n",
    "\n",
    "    var checkpointPath = \"/tmp/received_time_series_checkpoint\";\n",
    "    //var checkpointPath = $\"abfss://{delta_lake_container_name}@{storage_account_name}.dfs.core.windows.net/checkpoint\"\n",
    "     streamingDf\n",
    "        .WriteStream()\n",
    "        .Option(\"checkpointLocation\", checkpointPath)\n",
    "        .ForeachBatch((df, epochId) => ProcessEventhubItem(df, epochId, timeseries_unprocessed_path))\n",
    "        .Start().AwaitTermination();\n",
    "    spark.Stop();\n",
    "\n",
    "  //  var dfWrite = streamingDf.WriteStream().OutputMode(\"append\").Format(\"console\").Start();\n",
    "    //dfWrite.AwaitTermination();\n",
    "    //spark.Stop();\n",
    "   \n",
    "    public static void ProcessEventhubItem(DataFrame df, long epochId, string timeseriesUnprocessedPath)\n",
    "    {\n",
    "        Console.WriteLine(\"Hello\");\n",
    "        if(df.Head(1).Count()>0){\n",
    "            df.Show(20,100);\n",
    "        }\n",
    "        // if (df == null) throw new ArgumentNullException(nameof(timeseriesUnprocessedPath));\n",
    "        // df = df\n",
    "        //     .WithColumn(\"year\", Functions.Year(df[\"enqueuedTime\"]))\n",
    "        //     .WithColumn(\"month\", Functions.Month(df[\"enqueuedTime\"]))\n",
    "        //     .WithColumn(\"day\", Functions.DayOfMonth(df[\"enqueuedTime\"]));\n",
    "        // // df\n",
    "        // //     .Write()\n",
    "        // //     .PartitionBy(\"year\", \"month\", \"day\")\n",
    "        // //     .Format(\"delta\")\n",
    "        // //     .Mode(SaveMode.Append)\n",
    "        // //     .Save(timeseries_unprocessed_path);\n",
    "        // df.Show();\n",
    "    }"
   ]
  },
  {
   "cell_type": "code",
   "execution_count": null,
   "metadata": {
    "dotnet_interactive": {
     "language": "csharp"
    }
   },
   "outputs": [],
   "source": []
  }
 ],
 "metadata": {
  "kernelspec": {
   "display_name": ".NET (C#)",
   "language": "C#",
   "name": ".net-csharp"
  },
  "language_info": {
   "name": "C#"
  }
 },
 "nbformat": 4,
 "nbformat_minor": 2
}
